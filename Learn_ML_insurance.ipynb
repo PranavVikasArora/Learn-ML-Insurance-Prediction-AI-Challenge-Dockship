{
  "nbformat": 4,
  "nbformat_minor": 0,
  "metadata": {
    "kernelspec": {
      "display_name": "Python 3",
      "language": "python",
      "name": "python3"
    },
    "language_info": {
      "codemirror_mode": {
        "name": "ipython",
        "version": 3
      },
      "file_extension": ".py",
      "mimetype": "text/x-python",
      "name": "python",
      "nbconvert_exporter": "python",
      "pygments_lexer": "ipython3",
      "version": "3.7.6"
    },
    "colab": {
      "name": "Learn_ML_insurance_final.ipynb",
      "provenance": [],
      "collapsed_sections": []
    }
  },
  "cells": [
    {
      "cell_type": "code",
      "metadata": {
        "id": "xXzlUlbmVNJc"
      },
      "source": [
        "import numpy as np\n",
        "import pandas as pd\n",
        "import matplotlib.pyplot as plt\n",
        "import seaborn as sns\n",
        "from sklearn.ensemble import IsolationForest"
      ],
      "execution_count": 1,
      "outputs": []
    },
    {
      "cell_type": "code",
      "metadata": {
        "id": "42-mYzrBVNJk"
      },
      "source": [
        "train = pd.read_csv('TRAIN.csv')\n",
        "test = pd.read_csv('TEST.csv')"
      ],
      "execution_count": 2,
      "outputs": []
    },
    {
      "cell_type": "code",
      "metadata": {
        "colab": {
          "base_uri": "https://localhost:8080/",
          "height": 215
        },
        "id": "_vPeH5BzVNJl",
        "outputId": "72cb4f1c-0d2b-4aeb-f299-a0eb628423bf"
      },
      "source": [
        "test.head()"
      ],
      "execution_count": 3,
      "outputs": [
        {
          "output_type": "execute_result",
          "data": {
            "text/html": [
              "<div>\n",
              "<style scoped>\n",
              "    .dataframe tbody tr th:only-of-type {\n",
              "        vertical-align: middle;\n",
              "    }\n",
              "\n",
              "    .dataframe tbody tr th {\n",
              "        vertical-align: top;\n",
              "    }\n",
              "\n",
              "    .dataframe thead th {\n",
              "        text-align: right;\n",
              "    }\n",
              "</style>\n",
              "<table border=\"1\" class=\"dataframe\">\n",
              "  <thead>\n",
              "    <tr style=\"text-align: right;\">\n",
              "      <th></th>\n",
              "      <th>id</th>\n",
              "      <th>Gender</th>\n",
              "      <th>Age</th>\n",
              "      <th>Driving_License</th>\n",
              "      <th>Region_Code</th>\n",
              "      <th>Previously_Insured</th>\n",
              "      <th>Vehicle_Age</th>\n",
              "      <th>Vehicle_Damage</th>\n",
              "      <th>Annual_Premium</th>\n",
              "      <th>Policy_Sales_Channel</th>\n",
              "      <th>Vintage</th>\n",
              "    </tr>\n",
              "  </thead>\n",
              "  <tbody>\n",
              "    <tr>\n",
              "      <th>0</th>\n",
              "      <td>291378</td>\n",
              "      <td>Male</td>\n",
              "      <td>31</td>\n",
              "      <td>1</td>\n",
              "      <td>18</td>\n",
              "      <td>0</td>\n",
              "      <td>1-2 Year</td>\n",
              "      <td>Yes</td>\n",
              "      <td>2630</td>\n",
              "      <td>156</td>\n",
              "      <td>152</td>\n",
              "    </tr>\n",
              "    <tr>\n",
              "      <th>1</th>\n",
              "      <td>154746</td>\n",
              "      <td>Female</td>\n",
              "      <td>24</td>\n",
              "      <td>1</td>\n",
              "      <td>15</td>\n",
              "      <td>1</td>\n",
              "      <td>&lt; 1 Year</td>\n",
              "      <td>No</td>\n",
              "      <td>28105</td>\n",
              "      <td>152</td>\n",
              "      <td>267</td>\n",
              "    </tr>\n",
              "    <tr>\n",
              "      <th>2</th>\n",
              "      <td>218512</td>\n",
              "      <td>Female</td>\n",
              "      <td>25</td>\n",
              "      <td>1</td>\n",
              "      <td>14</td>\n",
              "      <td>1</td>\n",
              "      <td>&lt; 1 Year</td>\n",
              "      <td>No</td>\n",
              "      <td>29302</td>\n",
              "      <td>152</td>\n",
              "      <td>139</td>\n",
              "    </tr>\n",
              "    <tr>\n",
              "      <th>3</th>\n",
              "      <td>173930</td>\n",
              "      <td>Male</td>\n",
              "      <td>49</td>\n",
              "      <td>1</td>\n",
              "      <td>28</td>\n",
              "      <td>0</td>\n",
              "      <td>1-2 Year</td>\n",
              "      <td>Yes</td>\n",
              "      <td>28357</td>\n",
              "      <td>26</td>\n",
              "      <td>12</td>\n",
              "    </tr>\n",
              "    <tr>\n",
              "      <th>4</th>\n",
              "      <td>241471</td>\n",
              "      <td>Male</td>\n",
              "      <td>55</td>\n",
              "      <td>1</td>\n",
              "      <td>45</td>\n",
              "      <td>0</td>\n",
              "      <td>1-2 Year</td>\n",
              "      <td>Yes</td>\n",
              "      <td>33288</td>\n",
              "      <td>26</td>\n",
              "      <td>44</td>\n",
              "    </tr>\n",
              "  </tbody>\n",
              "</table>\n",
              "</div>"
            ],
            "text/plain": [
              "       id  Gender  Age  ...  Annual_Premium  Policy_Sales_Channel  Vintage\n",
              "0  291378    Male   31  ...            2630                   156      152\n",
              "1  154746  Female   24  ...           28105                   152      267\n",
              "2  218512  Female   25  ...           29302                   152      139\n",
              "3  173930    Male   49  ...           28357                    26       12\n",
              "4  241471    Male   55  ...           33288                    26       44\n",
              "\n",
              "[5 rows x 11 columns]"
            ]
          },
          "metadata": {
            "tags": []
          },
          "execution_count": 3
        }
      ]
    },
    {
      "cell_type": "code",
      "metadata": {
        "colab": {
          "base_uri": "https://localhost:8080/",
          "height": 215
        },
        "id": "t2qhzH5bVNJl",
        "outputId": "5fa15228-6f48-4b06-9f5f-ec14a9555699"
      },
      "source": [
        "train.head()"
      ],
      "execution_count": 4,
      "outputs": [
        {
          "output_type": "execute_result",
          "data": {
            "text/html": [
              "<div>\n",
              "<style scoped>\n",
              "    .dataframe tbody tr th:only-of-type {\n",
              "        vertical-align: middle;\n",
              "    }\n",
              "\n",
              "    .dataframe tbody tr th {\n",
              "        vertical-align: top;\n",
              "    }\n",
              "\n",
              "    .dataframe thead th {\n",
              "        text-align: right;\n",
              "    }\n",
              "</style>\n",
              "<table border=\"1\" class=\"dataframe\">\n",
              "  <thead>\n",
              "    <tr style=\"text-align: right;\">\n",
              "      <th></th>\n",
              "      <th>id</th>\n",
              "      <th>Gender</th>\n",
              "      <th>Age</th>\n",
              "      <th>Driving_License</th>\n",
              "      <th>Region_Code</th>\n",
              "      <th>Previously_Insured</th>\n",
              "      <th>Vehicle_Age</th>\n",
              "      <th>Vehicle_Damage</th>\n",
              "      <th>Annual_Premium</th>\n",
              "      <th>Policy_Sales_Channel</th>\n",
              "      <th>Vintage</th>\n",
              "      <th>Response</th>\n",
              "    </tr>\n",
              "  </thead>\n",
              "  <tbody>\n",
              "    <tr>\n",
              "      <th>0</th>\n",
              "      <td>350957</td>\n",
              "      <td>Male</td>\n",
              "      <td>50</td>\n",
              "      <td>1</td>\n",
              "      <td>41</td>\n",
              "      <td>0</td>\n",
              "      <td>1-2 Year</td>\n",
              "      <td>Yes</td>\n",
              "      <td>35915</td>\n",
              "      <td>124</td>\n",
              "      <td>240</td>\n",
              "      <td>0</td>\n",
              "    </tr>\n",
              "    <tr>\n",
              "      <th>1</th>\n",
              "      <td>239788</td>\n",
              "      <td>Female</td>\n",
              "      <td>48</td>\n",
              "      <td>1</td>\n",
              "      <td>28</td>\n",
              "      <td>0</td>\n",
              "      <td>1-2 Year</td>\n",
              "      <td>Yes</td>\n",
              "      <td>26873</td>\n",
              "      <td>124</td>\n",
              "      <td>274</td>\n",
              "      <td>0</td>\n",
              "    </tr>\n",
              "    <tr>\n",
              "      <th>2</th>\n",
              "      <td>348272</td>\n",
              "      <td>Female</td>\n",
              "      <td>34</td>\n",
              "      <td>1</td>\n",
              "      <td>41</td>\n",
              "      <td>0</td>\n",
              "      <td>1-2 Year</td>\n",
              "      <td>Yes</td>\n",
              "      <td>2630</td>\n",
              "      <td>156</td>\n",
              "      <td>138</td>\n",
              "      <td>1</td>\n",
              "    </tr>\n",
              "    <tr>\n",
              "      <th>3</th>\n",
              "      <td>73940</td>\n",
              "      <td>Female</td>\n",
              "      <td>43</td>\n",
              "      <td>1</td>\n",
              "      <td>28</td>\n",
              "      <td>0</td>\n",
              "      <td>1-2 Year</td>\n",
              "      <td>Yes</td>\n",
              "      <td>46877</td>\n",
              "      <td>124</td>\n",
              "      <td>223</td>\n",
              "      <td>0</td>\n",
              "    </tr>\n",
              "    <tr>\n",
              "      <th>4</th>\n",
              "      <td>292871</td>\n",
              "      <td>Male</td>\n",
              "      <td>29</td>\n",
              "      <td>1</td>\n",
              "      <td>28</td>\n",
              "      <td>1</td>\n",
              "      <td>&lt; 1 Year</td>\n",
              "      <td>No</td>\n",
              "      <td>38009</td>\n",
              "      <td>152</td>\n",
              "      <td>106</td>\n",
              "      <td>0</td>\n",
              "    </tr>\n",
              "  </tbody>\n",
              "</table>\n",
              "</div>"
            ],
            "text/plain": [
              "       id  Gender  Age  ...  Policy_Sales_Channel  Vintage  Response\n",
              "0  350957    Male   50  ...                   124      240         0\n",
              "1  239788  Female   48  ...                   124      274         0\n",
              "2  348272  Female   34  ...                   156      138         1\n",
              "3   73940  Female   43  ...                   124      223         0\n",
              "4  292871    Male   29  ...                   152      106         0\n",
              "\n",
              "[5 rows x 12 columns]"
            ]
          },
          "metadata": {
            "tags": []
          },
          "execution_count": 4
        }
      ]
    },
    {
      "cell_type": "code",
      "metadata": {
        "colab": {
          "base_uri": "https://localhost:8080/"
        },
        "id": "9jQS93AgVNJl",
        "outputId": "34c72ba0-4eeb-4836-f17f-2302848ffb1f"
      },
      "source": [
        "train.shape"
      ],
      "execution_count": 5,
      "outputs": [
        {
          "output_type": "execute_result",
          "data": {
            "text/plain": [
              "(304887, 12)"
            ]
          },
          "metadata": {
            "tags": []
          },
          "execution_count": 5
        }
      ]
    },
    {
      "cell_type": "code",
      "metadata": {
        "colab": {
          "base_uri": "https://localhost:8080/"
        },
        "id": "wnmvnjspVNJm",
        "outputId": "15dd7a3b-ed1b-4801-b697-ef2e0eabed79"
      },
      "source": [
        "train.isnull().sum()"
      ],
      "execution_count": 6,
      "outputs": [
        {
          "output_type": "execute_result",
          "data": {
            "text/plain": [
              "id                      0\n",
              "Gender                  0\n",
              "Age                     0\n",
              "Driving_License         0\n",
              "Region_Code             0\n",
              "Previously_Insured      0\n",
              "Vehicle_Age             0\n",
              "Vehicle_Damage          0\n",
              "Annual_Premium          0\n",
              "Policy_Sales_Channel    0\n",
              "Vintage                 0\n",
              "Response                0\n",
              "dtype: int64"
            ]
          },
          "metadata": {
            "tags": []
          },
          "execution_count": 6
        }
      ]
    },
    {
      "cell_type": "code",
      "metadata": {
        "colab": {
          "base_uri": "https://localhost:8080/",
          "height": 350
        },
        "id": "DBeZ6wskVNJm",
        "outputId": "9875e910-4e31-4499-a4d4-38549eb71986"
      },
      "source": [
        "sns.countplot(train.Response)\n",
        "#Imbalance"
      ],
      "execution_count": 7,
      "outputs": [
        {
          "output_type": "stream",
          "text": [
            "/usr/local/lib/python3.6/dist-packages/seaborn/_decorators.py:43: FutureWarning: Pass the following variable as a keyword arg: x. From version 0.12, the only valid positional argument will be `data`, and passing other arguments without an explicit keyword will result in an error or misinterpretation.\n",
            "  FutureWarning\n"
          ],
          "name": "stderr"
        },
        {
          "output_type": "execute_result",
          "data": {
            "text/plain": [
              "<matplotlib.axes._subplots.AxesSubplot at 0x7f637da72080>"
            ]
          },
          "metadata": {
            "tags": []
          },
          "execution_count": 7
        },
        {
          "output_type": "display_data",
          "data": {
            "image/png": "[encoded data removed]",
            "text/plain": [
              "<Figure size 432x288 with 1 Axes>"
            ]
          },
          "metadata": {
            "tags": [],
            "needs_background": "light"
          }
        }
      ]
    },
    {
      "cell_type": "code",
      "metadata": {
        "colab": {
          "base_uri": "https://localhost:8080/"
        },
        "id": "y4fQeJSoVNJm",
        "outputId": "5abd43ce-c825-4837-89df-e5c5d005f0f4"
      },
      "source": [
        "train.Response.value_counts()"
      ],
      "execution_count": 8,
      "outputs": [
        {
          "output_type": "execute_result",
          "data": {
            "text/plain": [
              "0    267582\n",
              "1     37305\n",
              "Name: Response, dtype: int64"
            ]
          },
          "metadata": {
            "tags": []
          },
          "execution_count": 8
        }
      ]
    },
    {
      "cell_type": "code",
      "metadata": {
        "colab": {
          "base_uri": "https://localhost:8080/",
          "height": 350
        },
        "id": "CjRzkPalVNJn",
        "outputId": "61627b0d-3d0e-44ec-c8af-1908b768af35"
      },
      "source": [
        "sns.distplot(train.Age)\n",
        "#Right skewed"
      ],
      "execution_count": 9,
      "outputs": [
        {
          "output_type": "stream",
          "text": [
            "/usr/local/lib/python3.6/dist-packages/seaborn/distributions.py:2557: FutureWarning: `distplot` is a deprecated function and will be removed in a future version. Please adapt your code to use either `displot` (a figure-level function with similar flexibility) or `histplot` (an axes-level function for histograms).\n",
            "  warnings.warn(msg, FutureWarning)\n"
          ],
          "name": "stderr"
        },
        {
          "output_type": "execute_result",
          "data": {
            "text/plain": [
              "<matplotlib.axes._subplots.AxesSubplot at 0x7f637da1d588>"
            ]
          },
          "metadata": {
            "tags": []
          },
          "execution_count": 9
        },
        {
          "output_type": "display_data",
          "data": {
            "image/png": "[encoded data removed]",
            "text/plain": [
              "<Figure size 432x288 with 1 Axes>"
            ]
          },
          "metadata": {
            "tags": [],
            "needs_background": "light"
          }
        }
      ]
    },
    {
      "cell_type": "code",
      "metadata": {
        "colab": {
          "base_uri": "https://localhost:8080/",
          "height": 269
        },
        "id": "LoYUguglVNJn",
        "outputId": "f01e2610-d16f-47ee-8b74-b6748a6cd156"
      },
      "source": [
        "sns.boxplot(y = 'Age', data = train)"
      ],
      "execution_count": 10,
      "outputs": [
        {
          "output_type": "execute_result",
          "data": {
            "text/plain": [
              "<matplotlib.axes._subplots.AxesSubplot at 0x7f6374211208>"
            ]
          },
          "metadata": {
            "tags": []
          },
          "execution_count": 10
        },
        {
          "output_type": "display_data",
          "data": {
            "image/png": "[encoded data removed]",
            "text/plain": [
              "<Figure size 432x288 with 1 Axes>"
            ]
          },
          "metadata": {
            "tags": [],
            "needs_background": "light"
          }
        }
      ]
    },
    {
      "cell_type": "code",
      "metadata": {
        "colab": {
          "base_uri": "https://localhost:8080/",
          "height": 294
        },
        "id": "aK8P92rvVNJn",
        "outputId": "1a16f127-76d7-4de1-88e7-deb72ec64101"
      },
      "source": [
        "plt.figure(figsize = (15,3))\n",
        "sns.countplot(train['Age'])\n",
        "plt.title('Count of Age')\n",
        "plt.show()\n",
        "#Age 24 wale sabse zyada hai data mein"
      ],
      "execution_count": 11,
      "outputs": [
        {
          "output_type": "stream",
          "text": [
            "/usr/local/lib/python3.6/dist-packages/seaborn/_decorators.py:43: FutureWarning: Pass the following variable as a keyword arg: x. From version 0.12, the only valid positional argument will be `data`, and passing other arguments without an explicit keyword will result in an error or misinterpretation.\n",
            "  FutureWarning\n"
          ],
          "name": "stderr"
        },
        {
          "output_type": "display_data",
          "data": {
            "image/png": "[encoded data removed]",
            "text/plain": [
              "<Figure size 1080x216 with 1 Axes>"
            ]
          },
          "metadata": {
            "tags": [],
            "needs_background": "light"
          }
        }
      ]
    },
    {
      "cell_type": "code",
      "metadata": {
        "colab": {
          "base_uri": "https://localhost:8080/",
          "height": 296
        },
        "id": "-teKf6mTVNJo",
        "outputId": "247cabc5-e6f0-4974-9c9d-aaa70e2d9956"
      },
      "source": [
        "sns.scatterplot(x=train['Age'],y=train['Annual_Premium'])"
      ],
      "execution_count": 12,
      "outputs": [
        {
          "output_type": "execute_result",
          "data": {
            "text/plain": [
              "<matplotlib.axes._subplots.AxesSubplot at 0x7f6374170c18>"
            ]
          },
          "metadata": {
            "tags": []
          },
          "execution_count": 12
        },
        {
          "output_type": "display_data",
          "data": {
            "image/png": "[encoded data removed]",
            "text/plain": [
              "<Figure size 432x288 with 1 Axes>"
            ]
          },
          "metadata": {
            "tags": [],
            "needs_background": "light"
          }
        }
      ]
    },
    {
      "cell_type": "code",
      "metadata": {
        "colab": {
          "base_uri": "https://localhost:8080/",
          "height": 350
        },
        "id": "VFDBpBNYVNJo",
        "outputId": "6fa30913-acf2-428f-f562-6e5840541327"
      },
      "source": [
        "sns.countplot(train.Gender)"
      ],
      "execution_count": 13,
      "outputs": [
        {
          "output_type": "stream",
          "text": [
            "/usr/local/lib/python3.6/dist-packages/seaborn/_decorators.py:43: FutureWarning: Pass the following variable as a keyword arg: x. From version 0.12, the only valid positional argument will be `data`, and passing other arguments without an explicit keyword will result in an error or misinterpretation.\n",
            "  FutureWarning\n"
          ],
          "name": "stderr"
        },
        {
          "output_type": "execute_result",
          "data": {
            "text/plain": [
              "<matplotlib.axes._subplots.AxesSubplot at 0x7f6374055da0>"
            ]
          },
          "metadata": {
            "tags": []
          },
          "execution_count": 13
        },
        {
          "output_type": "display_data",
          "data": {
            "image/png": "[encoded data removed]",
            "text/plain": [
              "<Figure size 432x288 with 1 Axes>"
            ]
          },
          "metadata": {
            "tags": [],
            "needs_background": "light"
          }
        }
      ]
    },
    {
      "cell_type": "code",
      "metadata": {
        "colab": {
          "base_uri": "https://localhost:8080/",
          "height": 628
        },
        "id": "ijx_8SE_VNJo",
        "outputId": "fb34cdd0-b452-44c0-8868-3fbae3dd8dd8"
      },
      "source": [
        "plt.figure(figsize = (30,10))\n",
        "plt.subplot(3,1,1)\n",
        "sns.countplot(train['Region_Code'], palette = 'hsv')\n",
        "plt.title('Count of Region code')\n",
        "plt.figure(figsize = (10,7))\n",
        "plt.subplot(3,1,2)\n",
        "sns.distplot(train['Region_Code'])\n",
        "plt.title('Distribution of Region code')\n",
        "plt.figure(figsize = (10,7))\n",
        "plt.subplot(3,1,3)\n",
        "sns.boxplot(train['Region_Code'])\n",
        "plt.title('Boxplot of Region code')\n",
        "plt.show()\n",
        "#No outliers\n",
        "#Region 28 wale log sabse zyada hai"
      ],
      "execution_count": 14,
      "outputs": [
        {
          "output_type": "stream",
          "text": [
            "/usr/local/lib/python3.6/dist-packages/seaborn/_decorators.py:43: FutureWarning: Pass the following variable as a keyword arg: x. From version 0.12, the only valid positional argument will be `data`, and passing other arguments without an explicit keyword will result in an error or misinterpretation.\n",
            "  FutureWarning\n",
            "/usr/local/lib/python3.6/dist-packages/seaborn/distributions.py:2557: FutureWarning: `distplot` is a deprecated function and will be removed in a future version. Please adapt your code to use either `displot` (a figure-level function with similar flexibility) or `histplot` (an axes-level function for histograms).\n",
            "  warnings.warn(msg, FutureWarning)\n",
            "/usr/local/lib/python3.6/dist-packages/seaborn/_decorators.py:43: FutureWarning: Pass the following variable as a keyword arg: x. From version 0.12, the only valid positional argument will be `data`, and passing other arguments without an explicit keyword will result in an error or misinterpretation.\n",
            "  FutureWarning\n"
          ],
          "name": "stderr"
        },
        {
          "output_type": "display_data",
          "data": {
            "image/png": "[encoded data removed]",
            "text/plain": [
              "<Figure size 2160x720 with 1 Axes>"
            ]
          },
          "metadata": {
            "tags": [],
            "needs_background": "light"
          }
        },
        {
          "output_type": "display_data",
          "data": {
            "image/png": "[encoded data removed]",
            "text/plain": [
              "<Figure size 720x504 with 1 Axes>"
            ]
          },
          "metadata": {
            "tags": [],
            "needs_background": "light"
          }
        },
        {
          "output_type": "display_data",
          "data": {
            "image/png": "[encoded data removed]",
            "text/plain": [
              "<Figure size 720x504 with 1 Axes>"
            ]
          },
          "metadata": {
            "tags": [],
            "needs_background": "light"
          }
        }
      ]
    },
    {
      "cell_type": "code",
      "metadata": {
        "colab": {
          "base_uri": "https://localhost:8080/",
          "height": 450
        },
        "id": "lVWxRD5kVNJp",
        "outputId": "0a26c44c-3d17-4851-d1c4-7db894cbf2c9"
      },
      "source": [
        "print(\"Percentage of  Driving_License feature\\n \")\n",
        "print(train['Driving_License'].value_counts()/len(train)*100)\n",
        "plt.title(\"Count plot of Driving_License vs Response\")\n",
        "sns.countplot(train['Driving_License'])"
      ],
      "execution_count": 15,
      "outputs": [
        {
          "output_type": "stream",
          "text": [
            "Percentage of  Driving_License feature\n",
            " \n",
            "1    99.787462\n",
            "0     0.212538\n",
            "Name: Driving_License, dtype: float64\n"
          ],
          "name": "stdout"
        },
        {
          "output_type": "stream",
          "text": [
            "/usr/local/lib/python3.6/dist-packages/seaborn/_decorators.py:43: FutureWarning: Pass the following variable as a keyword arg: x. From version 0.12, the only valid positional argument will be `data`, and passing other arguments without an explicit keyword will result in an error or misinterpretation.\n",
            "  FutureWarning\n"
          ],
          "name": "stderr"
        },
        {
          "output_type": "execute_result",
          "data": {
            "text/plain": [
              "<matplotlib.axes._subplots.AxesSubplot at 0x7f6373f14a58>"
            ]
          },
          "metadata": {
            "tags": []
          },
          "execution_count": 15
        },
        {
          "output_type": "display_data",
          "data": {
            "image/png": "[encoded data removed]",
            "text/plain": [
              "<Figure size 432x288 with 1 Axes>"
            ]
          },
          "metadata": {
            "tags": [],
            "needs_background": "light"
          }
        }
      ]
    },
    {
      "cell_type": "code",
      "metadata": {
        "colab": {
          "base_uri": "https://localhost:8080/",
          "height": 350
        },
        "id": "VHWyj4uPVNJp",
        "outputId": "524979ec-310a-4c4e-de55-88afe4d32b9d"
      },
      "source": [
        "sns.countplot(train['Driving_License'], hue = train['Response'])\n",
        "#99 percent ppl have driving license \n",
        "#Interested in insurance majority people have license"
      ],
      "execution_count": 16,
      "outputs": [
        {
          "output_type": "stream",
          "text": [
            "/usr/local/lib/python3.6/dist-packages/seaborn/_decorators.py:43: FutureWarning: Pass the following variable as a keyword arg: x. From version 0.12, the only valid positional argument will be `data`, and passing other arguments without an explicit keyword will result in an error or misinterpretation.\n",
            "  FutureWarning\n"
          ],
          "name": "stderr"
        },
        {
          "output_type": "execute_result",
          "data": {
            "text/plain": [
              "<matplotlib.axes._subplots.AxesSubplot at 0x7f6373bfec18>"
            ]
          },
          "metadata": {
            "tags": []
          },
          "execution_count": 16
        },
        {
          "output_type": "display_data",
          "data": {
            "image/png": "[encoded data removed]",
            "text/plain": [
              "<Figure size 432x288 with 1 Axes>"
            ]
          },
          "metadata": {
            "tags": [],
            "needs_background": "light"
          }
        }
      ]
    },
    {
      "cell_type": "code",
      "metadata": {
        "colab": {
          "base_uri": "https://localhost:8080/",
          "height": 434
        },
        "id": "I9p_O9MRVNJp",
        "outputId": "39af8da1-7a58-4a4f-b2c9-48b95a9abf44"
      },
      "source": [
        "print(\"Percentage ofPreviously_Insured feature\\n \")\n",
        "print(train['Previously_Insured'].value_counts()/len(train)*100)\n",
        "sns.countplot(train['Previously_Insured'])"
      ],
      "execution_count": 17,
      "outputs": [
        {
          "output_type": "stream",
          "text": [
            "Percentage ofPreviously_Insured feature\n",
            " \n",
            "0    54.156458\n",
            "1    45.843542\n",
            "Name: Previously_Insured, dtype: float64\n"
          ],
          "name": "stdout"
        },
        {
          "output_type": "stream",
          "text": [
            "/usr/local/lib/python3.6/dist-packages/seaborn/_decorators.py:43: FutureWarning: Pass the following variable as a keyword arg: x. From version 0.12, the only valid positional argument will be `data`, and passing other arguments without an explicit keyword will result in an error or misinterpretation.\n",
            "  FutureWarning\n"
          ],
          "name": "stderr"
        },
        {
          "output_type": "execute_result",
          "data": {
            "text/plain": [
              "<matplotlib.axes._subplots.AxesSubplot at 0x7f6373c38240>"
            ]
          },
          "metadata": {
            "tags": []
          },
          "execution_count": 17
        },
        {
          "output_type": "display_data",
          "data": {
            "image/png": "[encoded data removed]",
            "text/plain": [
              "<Figure size 432x288 with 1 Axes>"
            ]
          },
          "metadata": {
            "tags": [],
            "needs_background": "light"
          }
        }
      ]
    },
    {
      "cell_type": "code",
      "metadata": {
        "colab": {
          "base_uri": "https://localhost:8080/",
          "height": 350
        },
        "id": "TjRsTbSDVNJp",
        "outputId": "00a7676f-895a-46ef-8fd2-f73b35740967"
      },
      "source": [
        "sns.countplot(train['Previously_Insured'], hue = train['Response'])\n",
        "#Previously insured are most likely to be interested"
      ],
      "execution_count": 18,
      "outputs": [
        {
          "output_type": "stream",
          "text": [
            "/usr/local/lib/python3.6/dist-packages/seaborn/_decorators.py:43: FutureWarning: Pass the following variable as a keyword arg: x. From version 0.12, the only valid positional argument will be `data`, and passing other arguments without an explicit keyword will result in an error or misinterpretation.\n",
            "  FutureWarning\n"
          ],
          "name": "stderr"
        },
        {
          "output_type": "execute_result",
          "data": {
            "text/plain": [
              "<matplotlib.axes._subplots.AxesSubplot at 0x7f6373b80be0>"
            ]
          },
          "metadata": {
            "tags": []
          },
          "execution_count": 18
        },
        {
          "output_type": "display_data",
          "data": {
            "image/png": "[encoded data removed]",
            "text/plain": [
              "<Figure size 432x288 with 1 Axes>"
            ]
          },
          "metadata": {
            "tags": [],
            "needs_background": "light"
          }
        }
      ]
    },
    {
      "cell_type": "code",
      "metadata": {
        "colab": {
          "base_uri": "https://localhost:8080/",
          "height": 301
        },
        "id": "WwdUWJfJVNJq",
        "outputId": "f8cbad99-b2b2-4210-d800-37fab1cc3397"
      },
      "source": [
        "plt.figure(figsize=(13,7))\n",
        "plt.subplot(2,1,1)\n",
        "sns.distplot(train['Annual_Premium'])\n",
        "plt.show()"
      ],
      "execution_count": 19,
      "outputs": [
        {
          "output_type": "stream",
          "text": [
            "/usr/local/lib/python3.6/dist-packages/seaborn/distributions.py:2557: FutureWarning: `distplot` is a deprecated function and will be removed in a future version. Please adapt your code to use either `displot` (a figure-level function with similar flexibility) or `histplot` (an axes-level function for histograms).\n",
            "  warnings.warn(msg, FutureWarning)\n"
          ],
          "name": "stderr"
        },
        {
          "output_type": "display_data",
          "data": {
            "image/png": "[encoded data removed]",
            "text/plain": [
              "<Figure size 936x504 with 1 Axes>"
            ]
          },
          "metadata": {
            "tags": [],
            "needs_background": "light"
          }
        }
      ]
    },
    {
      "cell_type": "code",
      "metadata": {
        "colab": {
          "base_uri": "https://localhost:8080/",
          "height": 290
        },
        "id": "pqxRwEtDVNJq",
        "outputId": "06abff02-97c5-462a-c00c-004a04ee28c9"
      },
      "source": [
        "plt.figure(figsize=(13,7))\n",
        "plt.subplot(2,1,2)\n",
        "sns.boxplot(train['Annual_Premium'])\n",
        "plt.show()"
      ],
      "execution_count": 20,
      "outputs": [
        {
          "output_type": "stream",
          "text": [
            "/usr/local/lib/python3.6/dist-packages/seaborn/_decorators.py:43: FutureWarning: Pass the following variable as a keyword arg: x. From version 0.12, the only valid positional argument will be `data`, and passing other arguments without an explicit keyword will result in an error or misinterpretation.\n",
            "  FutureWarning\n"
          ],
          "name": "stderr"
        },
        {
          "output_type": "display_data",
          "data": {
            "image/png": "[encoded data removed]",
            "text/plain": [
              "<Figure size 936x504 with 1 Axes>"
            ]
          },
          "metadata": {
            "tags": [],
            "needs_background": "light"
          }
        }
      ]
    },
    {
      "cell_type": "code",
      "metadata": {
        "colab": {
          "base_uri": "https://localhost:8080/",
          "height": 350
        },
        "id": "_OmFwMjBVNJq",
        "outputId": "15a82d7b-d0b2-4c32-9e22-d052bd75d0aa"
      },
      "source": [
        "sns.distplot(train['Vintage'])"
      ],
      "execution_count": 21,
      "outputs": [
        {
          "output_type": "stream",
          "text": [
            "/usr/local/lib/python3.6/dist-packages/seaborn/distributions.py:2557: FutureWarning: `distplot` is a deprecated function and will be removed in a future version. Please adapt your code to use either `displot` (a figure-level function with similar flexibility) or `histplot` (an axes-level function for histograms).\n",
            "  warnings.warn(msg, FutureWarning)\n"
          ],
          "name": "stderr"
        },
        {
          "output_type": "execute_result",
          "data": {
            "text/plain": [
              "<matplotlib.axes._subplots.AxesSubplot at 0x7f6374001550>"
            ]
          },
          "metadata": {
            "tags": []
          },
          "execution_count": 21
        },
        {
          "output_type": "display_data",
          "data": {
            "image/png": "[encoded data removed]",
            "text/plain": [
              "<Figure size 432x288 with 1 Axes>"
            ]
          },
          "metadata": {
            "tags": [],
            "needs_background": "light"
          }
        }
      ]
    },
    {
      "cell_type": "code",
      "metadata": {
        "colab": {
          "base_uri": "https://localhost:8080/",
          "height": 350
        },
        "id": "eIpmyBxcVNJq",
        "outputId": "71266f12-133e-4280-9225-bc185494b40c"
      },
      "source": [
        "sns.boxplot(train['Vintage'])"
      ],
      "execution_count": 22,
      "outputs": [
        {
          "output_type": "stream",
          "text": [
            "/usr/local/lib/python3.6/dist-packages/seaborn/_decorators.py:43: FutureWarning: Pass the following variable as a keyword arg: x. From version 0.12, the only valid positional argument will be `data`, and passing other arguments without an explicit keyword will result in an error or misinterpretation.\n",
            "  FutureWarning\n"
          ],
          "name": "stderr"
        },
        {
          "output_type": "execute_result",
          "data": {
            "text/plain": [
              "<matplotlib.axes._subplots.AxesSubplot at 0x7f637408e470>"
            ]
          },
          "metadata": {
            "tags": []
          },
          "execution_count": 22
        },
        {
          "output_type": "display_data",
          "data": {
            "image/png": "[encoded data removed]",
            "text/plain": [
              "<Figure size 432x288 with 1 Axes>"
            ]
          },
          "metadata": {
            "tags": [],
            "needs_background": "light"
          }
        }
      ]
    },
    {
      "cell_type": "code",
      "metadata": {
        "id": "KXt1FxUtVNJr"
      },
      "source": [
        "gender = pd.get_dummies(train[\"Gender\"],drop_first= True)\n",
        "vehicle_age = pd.get_dummies(train[\"Vehicle_Age\"],drop_first= True)\n",
        "vehicle_damage = pd.get_dummies(train[\"Vehicle_Damage\"],drop_first= True)\n",
        "driving_license = pd.get_dummies(train[\"Driving_License\"],drop_first= True)"
      ],
      "execution_count": 23,
      "outputs": []
    },
    {
      "cell_type": "code",
      "metadata": {
        "id": "g6-uJpcmVNJr"
      },
      "source": [
        "train = pd.concat([train, gender, vehicle_age, vehicle_damage, driving_license], axis = 1)"
      ],
      "execution_count": 24,
      "outputs": []
    },
    {
      "cell_type": "code",
      "metadata": {
        "id": "kjZlfOtJVNJr"
      },
      "source": [
        "train = train.drop([\"Gender\", \"Vehicle_Age\", \"Vehicle_Damage\", \"Driving_License\"], axis = 1)"
      ],
      "execution_count": 25,
      "outputs": []
    },
    {
      "cell_type": "code",
      "metadata": {
        "id": "pVCxbOs2VNJr"
      },
      "source": [
        "train.drop('id', axis = 1, inplace = True)"
      ],
      "execution_count": 26,
      "outputs": []
    },
    {
      "cell_type": "code",
      "metadata": {
        "colab": {
          "base_uri": "https://localhost:8080/",
          "height": 195
        },
        "id": "le_xGuXfVNJs",
        "outputId": "5071b023-a6d3-4b9d-be67-91503474608e"
      },
      "source": [
        "train.head()"
      ],
      "execution_count": 27,
      "outputs": [
        {
          "output_type": "execute_result",
          "data": {
            "text/html": [
              "<div>\n",
              "<style scoped>\n",
              "    .dataframe tbody tr th:only-of-type {\n",
              "        vertical-align: middle;\n",
              "    }\n",
              "\n",
              "    .dataframe tbody tr th {\n",
              "        vertical-align: top;\n",
              "    }\n",
              "\n",
              "    .dataframe thead th {\n",
              "        text-align: right;\n",
              "    }\n",
              "</style>\n",
              "<table border=\"1\" class=\"dataframe\">\n",
              "  <thead>\n",
              "    <tr style=\"text-align: right;\">\n",
              "      <th></th>\n",
              "      <th>Age</th>\n",
              "      <th>Region_Code</th>\n",
              "      <th>Previously_Insured</th>\n",
              "      <th>Annual_Premium</th>\n",
              "      <th>Policy_Sales_Channel</th>\n",
              "      <th>Vintage</th>\n",
              "      <th>Response</th>\n",
              "      <th>Male</th>\n",
              "      <th>&lt; 1 Year</th>\n",
              "      <th>&gt; 2 Years</th>\n",
              "      <th>Yes</th>\n",
              "      <th>1</th>\n",
              "    </tr>\n",
              "  </thead>\n",
              "  <tbody>\n",
              "    <tr>\n",
              "      <th>0</th>\n",
              "      <td>50</td>\n",
              "      <td>41</td>\n",
              "      <td>0</td>\n",
              "      <td>35915</td>\n",
              "      <td>124</td>\n",
              "      <td>240</td>\n",
              "      <td>0</td>\n",
              "      <td>1</td>\n",
              "      <td>0</td>\n",
              "      <td>0</td>\n",
              "      <td>1</td>\n",
              "      <td>1</td>\n",
              "    </tr>\n",
              "    <tr>\n",
              "      <th>1</th>\n",
              "      <td>48</td>\n",
              "      <td>28</td>\n",
              "      <td>0</td>\n",
              "      <td>26873</td>\n",
              "      <td>124</td>\n",
              "      <td>274</td>\n",
              "      <td>0</td>\n",
              "      <td>0</td>\n",
              "      <td>0</td>\n",
              "      <td>0</td>\n",
              "      <td>1</td>\n",
              "      <td>1</td>\n",
              "    </tr>\n",
              "    <tr>\n",
              "      <th>2</th>\n",
              "      <td>34</td>\n",
              "      <td>41</td>\n",
              "      <td>0</td>\n",
              "      <td>2630</td>\n",
              "      <td>156</td>\n",
              "      <td>138</td>\n",
              "      <td>1</td>\n",
              "      <td>0</td>\n",
              "      <td>0</td>\n",
              "      <td>0</td>\n",
              "      <td>1</td>\n",
              "      <td>1</td>\n",
              "    </tr>\n",
              "    <tr>\n",
              "      <th>3</th>\n",
              "      <td>43</td>\n",
              "      <td>28</td>\n",
              "      <td>0</td>\n",
              "      <td>46877</td>\n",
              "      <td>124</td>\n",
              "      <td>223</td>\n",
              "      <td>0</td>\n",
              "      <td>0</td>\n",
              "      <td>0</td>\n",
              "      <td>0</td>\n",
              "      <td>1</td>\n",
              "      <td>1</td>\n",
              "    </tr>\n",
              "    <tr>\n",
              "      <th>4</th>\n",
              "      <td>29</td>\n",
              "      <td>28</td>\n",
              "      <td>1</td>\n",
              "      <td>38009</td>\n",
              "      <td>152</td>\n",
              "      <td>106</td>\n",
              "      <td>0</td>\n",
              "      <td>1</td>\n",
              "      <td>1</td>\n",
              "      <td>0</td>\n",
              "      <td>0</td>\n",
              "      <td>1</td>\n",
              "    </tr>\n",
              "  </tbody>\n",
              "</table>\n",
              "</div>"
            ],
            "text/plain": [
              "   Age  Region_Code  Previously_Insured  ...  > 2 Years  Yes  1\n",
              "0   50           41                   0  ...          0    1  1\n",
              "1   48           28                   0  ...          0    1  1\n",
              "2   34           41                   0  ...          0    1  1\n",
              "3   43           28                   0  ...          0    1  1\n",
              "4   29           28                   1  ...          0    0  1\n",
              "\n",
              "[5 rows x 12 columns]"
            ]
          },
          "metadata": {
            "tags": []
          },
          "execution_count": 27
        }
      ]
    },
    {
      "cell_type": "code",
      "metadata": {
        "id": "3UtmkFEypU-U"
      },
      "source": [
        "#gr_age = []\r\n",
        "#for i, kolom in train.iterrows():\r\n",
        "#    if kolom['Age'] >= 20 and kolom['Age'] <= 29:\r\n",
        "#        segment = 1\r\n",
        "#    elif kolom['Age'] >= 30 and kolom['Age'] <= 39:\r\n",
        "#        segment = 2\r\n",
        "#    elif kolom['Age'] >= 40 and kolom['Age'] <= 49:\r\n",
        "#        segment = 3\r\n",
        "#    elif kolom['Age'] >= 50 and kolom['Age'] <= 59:\r\n",
        "#        segment = 4\r\n",
        "#    elif kolom['Age'] >= 60 and kolom['Age'] <= 69:\r\n",
        "#        segment = 5\r\n",
        "#    elif kolom['Age'] >= 70 and kolom['Age'] <= 85:\r\n",
        "#        segment = 6\r\n",
        "#    else:\r\n",
        "#        segment = 7\r\n",
        "#    gr_age.append(segment)\r\n",
        "    \r\n",
        "#train['Group_Age'] = gr_age\r\n",
        "#train.head()\r\n",
        "#HAd formed bins for age wasnt giving good results"
      ],
      "execution_count": 28,
      "outputs": []
    },
    {
      "cell_type": "code",
      "metadata": {
        "id": "co9PdVFHzDch"
      },
      "source": [
        "#GroupAge = pd.get_dummies(train[\"Group_Age\"],drop_first= True)\r\n",
        "#One hot for age grp bins"
      ],
      "execution_count": 29,
      "outputs": []
    },
    {
      "cell_type": "code",
      "metadata": {
        "id": "JhdqsfmKzSXV"
      },
      "source": [
        "#train = pd.concat([train,GroupAge], axis = 1)"
      ],
      "execution_count": 30,
      "outputs": []
    },
    {
      "cell_type": "code",
      "metadata": {
        "id": "VW1mM9h_pyQP"
      },
      "source": [
        "#train = train.drop(['Age','Group_Age'], axis=1)"
      ],
      "execution_count": 31,
      "outputs": []
    },
    {
      "cell_type": "code",
      "metadata": {
        "id": "uUY_BQ9kVNJs"
      },
      "source": [
        "#Had tried isolation forest for outlier removal \n",
        "#iso = IsolationForest(warm_start=True, n_jobs=-1)\n",
        "#iso.fit_predict(train.drop('Response', axis=1))\n",
        "#iso_pred = iso.predict(train.drop('Response', axis=1))"
      ],
      "execution_count": 32,
      "outputs": []
    },
    {
      "cell_type": "code",
      "metadata": {
        "id": "5r5rkhSvVNJs"
      },
      "source": [
        "#iso_pred = np.where(iso_pred==1, 0, iso_pred)\n",
        "#iso_pred = np.where(iso_pred==-1, 1, iso_pred)\n",
        "#iso_pred = np.array(iso_pred, dtype=bool)\n",
        "#print(np.unique(iso_pred, return_counts=True))"
      ],
      "execution_count": 33,
      "outputs": []
    },
    {
      "cell_type": "code",
      "metadata": {
        "id": "xWY5kPiWVNJs"
      },
      "source": [
        "#train_reduced = train.loc[iso_pred]"
      ],
      "execution_count": 34,
      "outputs": []
    },
    {
      "cell_type": "code",
      "metadata": {
        "id": "2ZK_pxhWVNJs"
      },
      "source": [
        "#train_reduced"
      ],
      "execution_count": 35,
      "outputs": []
    },
    {
      "cell_type": "code",
      "metadata": {
        "id": "PxJpG7fRVNJt"
      },
      "source": [
        "#Y= train_reduced['Response']\n",
        "#X= train_reduced.drop('Response',axis=1)\n",
        "\n",
        "#print('X shape :',X.shape)\n",
        "#print('y shape :',Y.shape)"
      ],
      "execution_count": 36,
      "outputs": []
    },
    {
      "cell_type": "code",
      "metadata": {
        "colab": {
          "base_uri": "https://localhost:8080/"
        },
        "id": "ciz61Zr3aAOC",
        "outputId": "88027ead-6715-4a4c-b18c-89005d83fcbd"
      },
      "source": [
        "print(f'Count of rows before filtering outlier: {len(train)}')\r\n",
        "filtered_entries = np.array([True] * len(train))\r\n",
        "for col in ['Annual_Premium']:\r\n",
        "    Q1 = train[col].quantile(0.25)\r\n",
        "    Q3 = train[col].quantile(0.75)\r\n",
        "    IQR = Q3 - Q1\r\n",
        "    low_limit = Q1 - (IQR * 1.5)\r\n",
        "    high_limit = Q3 + (IQR * 1.5)\r\n",
        "\r\n",
        "    filtered_entries = ((train[col] >= low_limit) & (train[col] <= high_limit)) & filtered_entries\r\n",
        "    \r\n",
        "train = train[filtered_entries]\r\n",
        "\r\n",
        "print(f'Count of rows after filtering outlier: {len(train)}')\r\n",
        "#Using quartile range to remove outliers"
      ],
      "execution_count": 37,
      "outputs": [
        {
          "output_type": "stream",
          "text": [
            "Count of rows before filtering outlier: 304887\n",
            "Count of rows after filtering outlier: 296578\n"
          ],
          "name": "stdout"
        }
      ]
    },
    {
      "cell_type": "code",
      "metadata": {
        "colab": {
          "base_uri": "https://localhost:8080/"
        },
        "id": "Re8XcJZfVNJt",
        "outputId": "4ab2407a-7af0-42e1-fdd9-5b715fddbe9f"
      },
      "source": [
        "Y= train['Response']\n",
        "X= train.drop('Response',axis=1)\n",
        "\n",
        "print('X shape :',X.shape)\n",
        "print('y shape :',Y.shape)"
      ],
      "execution_count": 38,
      "outputs": [
        {
          "output_type": "stream",
          "text": [
            "X shape : (296578, 11)\n",
            "y shape : (296578,)\n"
          ],
          "name": "stdout"
        }
      ]
    },
    {
      "cell_type": "code",
      "metadata": {
        "colab": {
          "base_uri": "https://localhost:8080/",
          "height": 195
        },
        "id": "UxT5l4p0VNJt",
        "outputId": "74b2718a-2eea-410c-e0e1-f61ddf23f80e"
      },
      "source": [
        "X = (X - np.min(X)) / (np.max(X) - np.min(X)).values\n",
        "X.head()"
      ],
      "execution_count": 39,
      "outputs": [
        {
          "output_type": "execute_result",
          "data": {
            "text/html": [
              "<div>\n",
              "<style scoped>\n",
              "    .dataframe tbody tr th:only-of-type {\n",
              "        vertical-align: middle;\n",
              "    }\n",
              "\n",
              "    .dataframe tbody tr th {\n",
              "        vertical-align: top;\n",
              "    }\n",
              "\n",
              "    .dataframe thead th {\n",
              "        text-align: right;\n",
              "    }\n",
              "</style>\n",
              "<table border=\"1\" class=\"dataframe\">\n",
              "  <thead>\n",
              "    <tr style=\"text-align: right;\">\n",
              "      <th></th>\n",
              "      <th>Age</th>\n",
              "      <th>Region_Code</th>\n",
              "      <th>Previously_Insured</th>\n",
              "      <th>Annual_Premium</th>\n",
              "      <th>Policy_Sales_Channel</th>\n",
              "      <th>Vintage</th>\n",
              "      <th>Male</th>\n",
              "      <th>&lt; 1 Year</th>\n",
              "      <th>&gt; 2 Years</th>\n",
              "      <th>Yes</th>\n",
              "      <th>1</th>\n",
              "    </tr>\n",
              "  </thead>\n",
              "  <tbody>\n",
              "    <tr>\n",
              "      <th>0</th>\n",
              "      <td>0.461538</td>\n",
              "      <td>0.788462</td>\n",
              "      <td>0.0</td>\n",
              "      <td>0.561876</td>\n",
              "      <td>0.759259</td>\n",
              "      <td>0.795848</td>\n",
              "      <td>1.0</td>\n",
              "      <td>0.0</td>\n",
              "      <td>0.0</td>\n",
              "      <td>1.0</td>\n",
              "      <td>1.0</td>\n",
              "    </tr>\n",
              "    <tr>\n",
              "      <th>1</th>\n",
              "      <td>0.430769</td>\n",
              "      <td>0.538462</td>\n",
              "      <td>0.0</td>\n",
              "      <td>0.409241</td>\n",
              "      <td>0.759259</td>\n",
              "      <td>0.913495</td>\n",
              "      <td>0.0</td>\n",
              "      <td>0.0</td>\n",
              "      <td>0.0</td>\n",
              "      <td>1.0</td>\n",
              "      <td>1.0</td>\n",
              "    </tr>\n",
              "    <tr>\n",
              "      <th>2</th>\n",
              "      <td>0.215385</td>\n",
              "      <td>0.788462</td>\n",
              "      <td>0.0</td>\n",
              "      <td>0.000000</td>\n",
              "      <td>0.956790</td>\n",
              "      <td>0.442907</td>\n",
              "      <td>0.0</td>\n",
              "      <td>0.0</td>\n",
              "      <td>0.0</td>\n",
              "      <td>1.0</td>\n",
              "      <td>1.0</td>\n",
              "    </tr>\n",
              "    <tr>\n",
              "      <th>3</th>\n",
              "      <td>0.353846</td>\n",
              "      <td>0.538462</td>\n",
              "      <td>0.0</td>\n",
              "      <td>0.746923</td>\n",
              "      <td>0.759259</td>\n",
              "      <td>0.737024</td>\n",
              "      <td>0.0</td>\n",
              "      <td>0.0</td>\n",
              "      <td>0.0</td>\n",
              "      <td>1.0</td>\n",
              "      <td>1.0</td>\n",
              "    </tr>\n",
              "    <tr>\n",
              "      <th>4</th>\n",
              "      <td>0.138462</td>\n",
              "      <td>0.538462</td>\n",
              "      <td>1.0</td>\n",
              "      <td>0.597225</td>\n",
              "      <td>0.932099</td>\n",
              "      <td>0.332180</td>\n",
              "      <td>1.0</td>\n",
              "      <td>1.0</td>\n",
              "      <td>0.0</td>\n",
              "      <td>0.0</td>\n",
              "      <td>1.0</td>\n",
              "    </tr>\n",
              "  </tbody>\n",
              "</table>\n",
              "</div>"
            ],
            "text/plain": [
              "        Age  Region_Code  Previously_Insured  ...  > 2 Years  Yes    1\n",
              "0  0.461538     0.788462                 0.0  ...        0.0  1.0  1.0\n",
              "1  0.430769     0.538462                 0.0  ...        0.0  1.0  1.0\n",
              "2  0.215385     0.788462                 0.0  ...        0.0  1.0  1.0\n",
              "3  0.353846     0.538462                 0.0  ...        0.0  1.0  1.0\n",
              "4  0.138462     0.538462                 1.0  ...        0.0  0.0  1.0\n",
              "\n",
              "[5 rows x 11 columns]"
            ]
          },
          "metadata": {
            "tags": []
          },
          "execution_count": 39
        }
      ]
    },
    {
      "cell_type": "code",
      "metadata": {
        "colab": {
          "base_uri": "https://localhost:8080/",
          "height": 350
        },
        "id": "gfc25pfZ9edH",
        "outputId": "04d6bd41-d32c-4478-b808-24d179e69678"
      },
      "source": [
        "sns.distplot(X.Age)"
      ],
      "execution_count": 40,
      "outputs": [
        {
          "output_type": "stream",
          "text": [
            "/usr/local/lib/python3.6/dist-packages/seaborn/distributions.py:2557: FutureWarning: `distplot` is a deprecated function and will be removed in a future version. Please adapt your code to use either `displot` (a figure-level function with similar flexibility) or `histplot` (an axes-level function for histograms).\n",
            "  warnings.warn(msg, FutureWarning)\n"
          ],
          "name": "stderr"
        },
        {
          "output_type": "execute_result",
          "data": {
            "text/plain": [
              "<matplotlib.axes._subplots.AxesSubplot at 0x7f6373eb29b0>"
            ]
          },
          "metadata": {
            "tags": []
          },
          "execution_count": 40
        },
        {
          "output_type": "display_data",
          "data": {
            "image/png": "[encoded data removed]",
            "text/plain": [
              "<Figure size 432x288 with 1 Axes>"
            ]
          },
          "metadata": {
            "tags": [],
            "needs_background": "light"
          }
        }
      ]
    },
    {
      "cell_type": "code",
      "metadata": {
        "colab": {
          "base_uri": "https://localhost:8080/",
          "height": 350
        },
        "id": "Lou1WhQU9jqH",
        "outputId": "e8f83ca3-2ab8-4e5b-ddcc-f06d7485d012"
      },
      "source": [
        "sns.boxplot(X.Annual_Premium)"
      ],
      "execution_count": 41,
      "outputs": [
        {
          "output_type": "stream",
          "text": [
            "/usr/local/lib/python3.6/dist-packages/seaborn/_decorators.py:43: FutureWarning: Pass the following variable as a keyword arg: x. From version 0.12, the only valid positional argument will be `data`, and passing other arguments without an explicit keyword will result in an error or misinterpretation.\n",
            "  FutureWarning\n"
          ],
          "name": "stderr"
        },
        {
          "output_type": "execute_result",
          "data": {
            "text/plain": [
              "<matplotlib.axes._subplots.AxesSubplot at 0x7f637408ef28>"
            ]
          },
          "metadata": {
            "tags": []
          },
          "execution_count": 41
        },
        {
          "output_type": "display_data",
          "data": {
            "image/png": "[encoded data removed]",
            "text/plain": [
              "<Figure size 432x288 with 1 Axes>"
            ]
          },
          "metadata": {
            "tags": [],
            "needs_background": "light"
          }
        }
      ]
    },
    {
      "cell_type": "code",
      "metadata": {
        "id": "I6KqtIBYVNJt"
      },
      "source": [
        "from sklearn.model_selection import train_test_split\n",
        "x_train_res,x_test,y_train_res,y_test = train_test_split(X,Y,test_size = 0.2)"
      ],
      "execution_count": 42,
      "outputs": []
    },
    {
      "cell_type": "code",
      "metadata": {
        "id": "VKpS_4hZVNJt"
      },
      "source": [
        "#Treated imbalance data set by oversampling but this wasnt giving accurate results for the test csv\n",
        "#from imblearn.over_sampling import SMOTE \n",
        "#sm = SMOTE(random_state = 2) \n",
        "#x_train_res, y_train_res = sm.fit_sample(x_train, y_train.ravel())"
      ],
      "execution_count": 43,
      "outputs": []
    },
    {
      "cell_type": "code",
      "metadata": {
        "id": "XLvPPWYUVNJt"
      },
      "source": [
        "#print(\"After OverSampling, counts of label '1': {}\".format(sum(y_train_res == 1))) \n",
        "#print(\"After OverSampling, counts of label '0': {}\".format(sum(y_train_res == 0)))"
      ],
      "execution_count": 44,
      "outputs": []
    },
    {
      "cell_type": "code",
      "metadata": {
        "id": "FCnSmcAJVNJu"
      },
      "source": [
        "test.drop('id', axis = 1, inplace = True)"
      ],
      "execution_count": 45,
      "outputs": []
    },
    {
      "cell_type": "code",
      "metadata": {
        "colab": {
          "base_uri": "https://localhost:8080/",
          "height": 195
        },
        "id": "vAj93vMIVNJu",
        "outputId": "1ec3f8ce-b7d1-4764-f18c-8ff7d3ffd7c9"
      },
      "source": [
        "test.head()"
      ],
      "execution_count": 46,
      "outputs": [
        {
          "output_type": "execute_result",
          "data": {
            "text/html": [
              "<div>\n",
              "<style scoped>\n",
              "    .dataframe tbody tr th:only-of-type {\n",
              "        vertical-align: middle;\n",
              "    }\n",
              "\n",
              "    .dataframe tbody tr th {\n",
              "        vertical-align: top;\n",
              "    }\n",
              "\n",
              "    .dataframe thead th {\n",
              "        text-align: right;\n",
              "    }\n",
              "</style>\n",
              "<table border=\"1\" class=\"dataframe\">\n",
              "  <thead>\n",
              "    <tr style=\"text-align: right;\">\n",
              "      <th></th>\n",
              "      <th>Gender</th>\n",
              "      <th>Age</th>\n",
              "      <th>Driving_License</th>\n",
              "      <th>Region_Code</th>\n",
              "      <th>Previously_Insured</th>\n",
              "      <th>Vehicle_Age</th>\n",
              "      <th>Vehicle_Damage</th>\n",
              "      <th>Annual_Premium</th>\n",
              "      <th>Policy_Sales_Channel</th>\n",
              "      <th>Vintage</th>\n",
              "    </tr>\n",
              "  </thead>\n",
              "  <tbody>\n",
              "    <tr>\n",
              "      <th>0</th>\n",
              "      <td>Male</td>\n",
              "      <td>31</td>\n",
              "      <td>1</td>\n",
              "      <td>18</td>\n",
              "      <td>0</td>\n",
              "      <td>1-2 Year</td>\n",
              "      <td>Yes</td>\n",
              "      <td>2630</td>\n",
              "      <td>156</td>\n",
              "      <td>152</td>\n",
              "    </tr>\n",
              "    <tr>\n",
              "      <th>1</th>\n",
              "      <td>Female</td>\n",
              "      <td>24</td>\n",
              "      <td>1</td>\n",
              "      <td>15</td>\n",
              "      <td>1</td>\n",
              "      <td>&lt; 1 Year</td>\n",
              "      <td>No</td>\n",
              "      <td>28105</td>\n",
              "      <td>152</td>\n",
              "      <td>267</td>\n",
              "    </tr>\n",
              "    <tr>\n",
              "      <th>2</th>\n",
              "      <td>Female</td>\n",
              "      <td>25</td>\n",
              "      <td>1</td>\n",
              "      <td>14</td>\n",
              "      <td>1</td>\n",
              "      <td>&lt; 1 Year</td>\n",
              "      <td>No</td>\n",
              "      <td>29302</td>\n",
              "      <td>152</td>\n",
              "      <td>139</td>\n",
              "    </tr>\n",
              "    <tr>\n",
              "      <th>3</th>\n",
              "      <td>Male</td>\n",
              "      <td>49</td>\n",
              "      <td>1</td>\n",
              "      <td>28</td>\n",
              "      <td>0</td>\n",
              "      <td>1-2 Year</td>\n",
              "      <td>Yes</td>\n",
              "      <td>28357</td>\n",
              "      <td>26</td>\n",
              "      <td>12</td>\n",
              "    </tr>\n",
              "    <tr>\n",
              "      <th>4</th>\n",
              "      <td>Male</td>\n",
              "      <td>55</td>\n",
              "      <td>1</td>\n",
              "      <td>45</td>\n",
              "      <td>0</td>\n",
              "      <td>1-2 Year</td>\n",
              "      <td>Yes</td>\n",
              "      <td>33288</td>\n",
              "      <td>26</td>\n",
              "      <td>44</td>\n",
              "    </tr>\n",
              "  </tbody>\n",
              "</table>\n",
              "</div>"
            ],
            "text/plain": [
              "   Gender  Age  Driving_License  ...  Annual_Premium  Policy_Sales_Channel Vintage\n",
              "0    Male   31                1  ...            2630                   156     152\n",
              "1  Female   24                1  ...           28105                   152     267\n",
              "2  Female   25                1  ...           29302                   152     139\n",
              "3    Male   49                1  ...           28357                    26      12\n",
              "4    Male   55                1  ...           33288                    26      44\n",
              "\n",
              "[5 rows x 10 columns]"
            ]
          },
          "metadata": {
            "tags": []
          },
          "execution_count": 46
        }
      ]
    },
    {
      "cell_type": "code",
      "metadata": {
        "id": "kr0VAB4bVNJu"
      },
      "source": [
        "gender = pd.get_dummies(test[\"Gender\"],drop_first= True)\n",
        "vehicle_age = pd.get_dummies(test[\"Vehicle_Age\"],drop_first= True)\n",
        "vehicle_damage = pd.get_dummies(test[\"Vehicle_Damage\"],drop_first= True)\n",
        "driving_license = pd.get_dummies(test[\"Driving_License\"],drop_first= True)"
      ],
      "execution_count": 47,
      "outputs": []
    },
    {
      "cell_type": "code",
      "metadata": {
        "id": "tUJ1Lz5LVNJu"
      },
      "source": [
        "test = pd.concat([test, gender, vehicle_age, vehicle_damage, driving_license], axis = 1)"
      ],
      "execution_count": 48,
      "outputs": []
    },
    {
      "cell_type": "code",
      "metadata": {
        "id": "hNMMSHMLqm3S"
      },
      "source": [
        "#gr_age = []\r\n",
        "#for i, kolom in test.iterrows():\r\n",
        "#    if kolom['Age'] >= 20 and kolom['Age'] <= 29:\r\n",
        "#        segment = 1\r\n",
        "#    elif kolom['Age'] >= 30 and kolom['Age'] <= 39:\r\n",
        "#        segment = 2\r\n",
        "#    elif kolom['Age'] >= 40 and kolom['Age'] <= 49:\r\n",
        "#        segment = 3\r\n",
        "#    elif kolom['Age'] >= 50 and kolom['Age'] <= 59:\r\n",
        "#        segment = 4\r\n",
        "#    elif kolom['Age'] >= 60 and kolom['Age'] <= 69:\r\n",
        "#        segment = 5\r\n",
        "#    elif kolom['Age'] >= 70 and kolom['Age'] <= 85:\r\n",
        "#        segment = 6\r\n",
        "#    else:\r\n",
        "#        segment = 7\r\n",
        "#    gr_age.append(segment)\r\n",
        "    \r\n",
        "#test['Group_Age'] = gr_age\r\n",
        "#test.head()"
      ],
      "execution_count": 49,
      "outputs": []
    },
    {
      "cell_type": "code",
      "metadata": {
        "id": "m_tuLbXdzgWa"
      },
      "source": [
        "#GroupAge = pd.get_dummies(test[\"Group_Age\"],drop_first= True)\r\n",
        "#test = pd.concat([test,GroupAge], axis = 1)"
      ],
      "execution_count": 50,
      "outputs": []
    },
    {
      "cell_type": "code",
      "metadata": {
        "colab": {
          "base_uri": "https://localhost:8080/",
          "height": 232
        },
        "id": "eHNnPCvu0ZlG",
        "outputId": "5fd07e39-ab74-4174-d4ab-454a14d5abb1"
      },
      "source": [
        "test.head()"
      ],
      "execution_count": 51,
      "outputs": [
        {
          "output_type": "execute_result",
          "data": {
            "text/html": [
              "<div>\n",
              "<style scoped>\n",
              "    .dataframe tbody tr th:only-of-type {\n",
              "        vertical-align: middle;\n",
              "    }\n",
              "\n",
              "    .dataframe tbody tr th {\n",
              "        vertical-align: top;\n",
              "    }\n",
              "\n",
              "    .dataframe thead th {\n",
              "        text-align: right;\n",
              "    }\n",
              "</style>\n",
              "<table border=\"1\" class=\"dataframe\">\n",
              "  <thead>\n",
              "    <tr style=\"text-align: right;\">\n",
              "      <th></th>\n",
              "      <th>Gender</th>\n",
              "      <th>Age</th>\n",
              "      <th>Driving_License</th>\n",
              "      <th>Region_Code</th>\n",
              "      <th>Previously_Insured</th>\n",
              "      <th>Vehicle_Age</th>\n",
              "      <th>Vehicle_Damage</th>\n",
              "      <th>Annual_Premium</th>\n",
              "      <th>Policy_Sales_Channel</th>\n",
              "      <th>Vintage</th>\n",
              "      <th>Male</th>\n",
              "      <th>&lt; 1 Year</th>\n",
              "      <th>&gt; 2 Years</th>\n",
              "      <th>Yes</th>\n",
              "      <th>1</th>\n",
              "    </tr>\n",
              "  </thead>\n",
              "  <tbody>\n",
              "    <tr>\n",
              "      <th>0</th>\n",
              "      <td>Male</td>\n",
              "      <td>31</td>\n",
              "      <td>1</td>\n",
              "      <td>18</td>\n",
              "      <td>0</td>\n",
              "      <td>1-2 Year</td>\n",
              "      <td>Yes</td>\n",
              "      <td>2630</td>\n",
              "      <td>156</td>\n",
              "      <td>152</td>\n",
              "      <td>1</td>\n",
              "      <td>0</td>\n",
              "      <td>0</td>\n",
              "      <td>1</td>\n",
              "      <td>1</td>\n",
              "    </tr>\n",
              "    <tr>\n",
              "      <th>1</th>\n",
              "      <td>Female</td>\n",
              "      <td>24</td>\n",
              "      <td>1</td>\n",
              "      <td>15</td>\n",
              "      <td>1</td>\n",
              "      <td>&lt; 1 Year</td>\n",
              "      <td>No</td>\n",
              "      <td>28105</td>\n",
              "      <td>152</td>\n",
              "      <td>267</td>\n",
              "      <td>0</td>\n",
              "      <td>1</td>\n",
              "      <td>0</td>\n",
              "      <td>0</td>\n",
              "      <td>1</td>\n",
              "    </tr>\n",
              "    <tr>\n",
              "      <th>2</th>\n",
              "      <td>Female</td>\n",
              "      <td>25</td>\n",
              "      <td>1</td>\n",
              "      <td>14</td>\n",
              "      <td>1</td>\n",
              "      <td>&lt; 1 Year</td>\n",
              "      <td>No</td>\n",
              "      <td>29302</td>\n",
              "      <td>152</td>\n",
              "      <td>139</td>\n",
              "      <td>0</td>\n",
              "      <td>1</td>\n",
              "      <td>0</td>\n",
              "      <td>0</td>\n",
              "      <td>1</td>\n",
              "    </tr>\n",
              "    <tr>\n",
              "      <th>3</th>\n",
              "      <td>Male</td>\n",
              "      <td>49</td>\n",
              "      <td>1</td>\n",
              "      <td>28</td>\n",
              "      <td>0</td>\n",
              "      <td>1-2 Year</td>\n",
              "      <td>Yes</td>\n",
              "      <td>28357</td>\n",
              "      <td>26</td>\n",
              "      <td>12</td>\n",
              "      <td>1</td>\n",
              "      <td>0</td>\n",
              "      <td>0</td>\n",
              "      <td>1</td>\n",
              "      <td>1</td>\n",
              "    </tr>\n",
              "    <tr>\n",
              "      <th>4</th>\n",
              "      <td>Male</td>\n",
              "      <td>55</td>\n",
              "      <td>1</td>\n",
              "      <td>45</td>\n",
              "      <td>0</td>\n",
              "      <td>1-2 Year</td>\n",
              "      <td>Yes</td>\n",
              "      <td>33288</td>\n",
              "      <td>26</td>\n",
              "      <td>44</td>\n",
              "      <td>1</td>\n",
              "      <td>0</td>\n",
              "      <td>0</td>\n",
              "      <td>1</td>\n",
              "      <td>1</td>\n",
              "    </tr>\n",
              "  </tbody>\n",
              "</table>\n",
              "</div>"
            ],
            "text/plain": [
              "   Gender  Age  Driving_License  Region_Code  ...  < 1 Year > 2 Years Yes  1\n",
              "0    Male   31                1           18  ...         0         0   1  1\n",
              "1  Female   24                1           15  ...         1         0   0  1\n",
              "2  Female   25                1           14  ...         1         0   0  1\n",
              "3    Male   49                1           28  ...         0         0   1  1\n",
              "4    Male   55                1           45  ...         0         0   1  1\n",
              "\n",
              "[5 rows x 15 columns]"
            ]
          },
          "metadata": {
            "tags": []
          },
          "execution_count": 51
        }
      ]
    },
    {
      "cell_type": "code",
      "metadata": {
        "id": "v1IropK3VNJu"
      },
      "source": [
        "test = test.drop([\"Gender\", \"Vehicle_Age\", \"Vehicle_Damage\", \"Driving_License\"], axis = 1)"
      ],
      "execution_count": 52,
      "outputs": []
    },
    {
      "cell_type": "code",
      "metadata": {
        "colab": {
          "base_uri": "https://localhost:8080/",
          "height": 195
        },
        "id": "9_e6DgwsVNJu",
        "outputId": "56ccd305-fe81-430a-f04f-bfee73d391c1"
      },
      "source": [
        "test = (test - np.min(test)) / (np.max(test) - np.min(test)).values\n",
        "test.head()"
      ],
      "execution_count": 53,
      "outputs": [
        {
          "output_type": "execute_result",
          "data": {
            "text/html": [
              "<div>\n",
              "<style scoped>\n",
              "    .dataframe tbody tr th:only-of-type {\n",
              "        vertical-align: middle;\n",
              "    }\n",
              "\n",
              "    .dataframe tbody tr th {\n",
              "        vertical-align: top;\n",
              "    }\n",
              "\n",
              "    .dataframe thead th {\n",
              "        text-align: right;\n",
              "    }\n",
              "</style>\n",
              "<table border=\"1\" class=\"dataframe\">\n",
              "  <thead>\n",
              "    <tr style=\"text-align: right;\">\n",
              "      <th></th>\n",
              "      <th>Age</th>\n",
              "      <th>Region_Code</th>\n",
              "      <th>Previously_Insured</th>\n",
              "      <th>Annual_Premium</th>\n",
              "      <th>Policy_Sales_Channel</th>\n",
              "      <th>Vintage</th>\n",
              "      <th>Male</th>\n",
              "      <th>&lt; 1 Year</th>\n",
              "      <th>&gt; 2 Years</th>\n",
              "      <th>Yes</th>\n",
              "      <th>1</th>\n",
              "    </tr>\n",
              "  </thead>\n",
              "  <tbody>\n",
              "    <tr>\n",
              "      <th>0</th>\n",
              "      <td>0.169231</td>\n",
              "      <td>0.346154</td>\n",
              "      <td>0.0</td>\n",
              "      <td>0.000000</td>\n",
              "      <td>0.956790</td>\n",
              "      <td>0.491349</td>\n",
              "      <td>1.0</td>\n",
              "      <td>0.0</td>\n",
              "      <td>0.0</td>\n",
              "      <td>1.0</td>\n",
              "      <td>1.0</td>\n",
              "    </tr>\n",
              "    <tr>\n",
              "      <th>1</th>\n",
              "      <td>0.061538</td>\n",
              "      <td>0.288462</td>\n",
              "      <td>1.0</td>\n",
              "      <td>0.054270</td>\n",
              "      <td>0.932099</td>\n",
              "      <td>0.889273</td>\n",
              "      <td>0.0</td>\n",
              "      <td>1.0</td>\n",
              "      <td>0.0</td>\n",
              "      <td>0.0</td>\n",
              "      <td>1.0</td>\n",
              "    </tr>\n",
              "    <tr>\n",
              "      <th>2</th>\n",
              "      <td>0.076923</td>\n",
              "      <td>0.269231</td>\n",
              "      <td>1.0</td>\n",
              "      <td>0.056820</td>\n",
              "      <td>0.932099</td>\n",
              "      <td>0.446367</td>\n",
              "      <td>0.0</td>\n",
              "      <td>1.0</td>\n",
              "      <td>0.0</td>\n",
              "      <td>0.0</td>\n",
              "      <td>1.0</td>\n",
              "    </tr>\n",
              "    <tr>\n",
              "      <th>3</th>\n",
              "      <td>0.446154</td>\n",
              "      <td>0.538462</td>\n",
              "      <td>0.0</td>\n",
              "      <td>0.054807</td>\n",
              "      <td>0.154321</td>\n",
              "      <td>0.006920</td>\n",
              "      <td>1.0</td>\n",
              "      <td>0.0</td>\n",
              "      <td>0.0</td>\n",
              "      <td>1.0</td>\n",
              "      <td>1.0</td>\n",
              "    </tr>\n",
              "    <tr>\n",
              "      <th>4</th>\n",
              "      <td>0.538462</td>\n",
              "      <td>0.865385</td>\n",
              "      <td>0.0</td>\n",
              "      <td>0.065311</td>\n",
              "      <td>0.154321</td>\n",
              "      <td>0.117647</td>\n",
              "      <td>1.0</td>\n",
              "      <td>0.0</td>\n",
              "      <td>0.0</td>\n",
              "      <td>1.0</td>\n",
              "      <td>1.0</td>\n",
              "    </tr>\n",
              "  </tbody>\n",
              "</table>\n",
              "</div>"
            ],
            "text/plain": [
              "        Age  Region_Code  Previously_Insured  ...  > 2 Years  Yes    1\n",
              "0  0.169231     0.346154                 0.0  ...        0.0  1.0  1.0\n",
              "1  0.061538     0.288462                 1.0  ...        0.0  0.0  1.0\n",
              "2  0.076923     0.269231                 1.0  ...        0.0  0.0  1.0\n",
              "3  0.446154     0.538462                 0.0  ...        0.0  1.0  1.0\n",
              "4  0.538462     0.865385                 0.0  ...        0.0  1.0  1.0\n",
              "\n",
              "[5 rows x 11 columns]"
            ]
          },
          "metadata": {
            "tags": []
          },
          "execution_count": 53
        }
      ]
    },
    {
      "cell_type": "code",
      "metadata": {
        "id": "fwcf4ZOOVNJv"
      },
      "source": [
        "param = { 'depth':[3,1,2,6,4,8,9,10,20,30,50],\n",
        "         'iterations':[250,100,500,1000],\n",
        "         'learning_rate':[0.03,0.001,0.01,0.1,0.13,0.2,0.3],\n",
        "         'l2_leaf_reg':[3,1,5,10,100],\n",
        "         'border_count':[32,5,10,20,100,200]\n",
        "        }"
      ],
      "execution_count": 54,
      "outputs": []
    },
    {
      "cell_type": "code",
      "metadata": {
        "colab": {
          "base_uri": "https://localhost:8080/"
        },
        "id": "sMyR3pzaVNJv",
        "outputId": "4ce20794-091e-47ac-bc94-a7dfddb16eb0"
      },
      "source": [
        "!pip install catboost\n",
        "from catboost import CatBoostClassifier\n",
        "cat = CatBoostClassifier()"
      ],
      "execution_count": 55,
      "outputs": [
        {
          "output_type": "stream",
          "text": [
            "Collecting catboost\n",
            "\u001b[?25l  Downloading https://files.pythonhosted.org/packages/20/37/bc4e0ddc30c07a96482abf1de7ed1ca54e59bba2026a33bca6d2ef286e5b/catboost-0.24.4-cp36-none-manylinux1_x86_64.whl (65.7MB)\n",
            "\u001b[K     |████████████████████████████████| 65.8MB 63kB/s \n",
            "\u001b[?25hRequirement already satisfied: plotly in /usr/local/lib/python3.6/dist-packages (from catboost) (4.4.1)\n",
            "Requirement already satisfied: matplotlib in /usr/local/lib/python3.6/dist-packages (from catboost) (3.2.2)\n",
            "Requirement already satisfied: graphviz in /usr/local/lib/python3.6/dist-packages (from catboost) (0.10.1)\n",
            "Requirement already satisfied: numpy>=1.16.0 in /usr/local/lib/python3.6/dist-packages (from catboost) (1.19.5)\n",
            "Requirement already satisfied: six in /usr/local/lib/python3.6/dist-packages (from catboost) (1.15.0)\n",
            "Requirement already satisfied: scipy in /usr/local/lib/python3.6/dist-packages (from catboost) (1.4.1)\n",
            "Requirement already satisfied: pandas>=0.24.0 in /usr/local/lib/python3.6/dist-packages (from catboost) (1.1.5)\n",
            "Requirement already satisfied: retrying>=1.3.3 in /usr/local/lib/python3.6/dist-packages (from plotly->catboost) (1.3.3)\n",
            "Requirement already satisfied: cycler>=0.10 in /usr/local/lib/python3.6/dist-packages (from matplotlib->catboost) (0.10.0)\n",
            "Requirement already satisfied: pyparsing!=2.0.4,!=2.1.2,!=2.1.6,>=2.0.1 in /usr/local/lib/python3.6/dist-packages (from matplotlib->catboost) (2.4.7)\n",
            "Requirement already satisfied: kiwisolver>=1.0.1 in /usr/local/lib/python3.6/dist-packages (from matplotlib->catboost) (1.3.1)\n",
            "Requirement already satisfied: python-dateutil>=2.1 in /usr/local/lib/python3.6/dist-packages (from matplotlib->catboost) (2.8.1)\n",
            "Requirement already satisfied: pytz>=2017.2 in /usr/local/lib/python3.6/dist-packages (from pandas>=0.24.0->catboost) (2018.9)\n",
            "Installing collected packages: catboost\n",
            "Successfully installed catboost-0.24.4\n"
          ],
          "name": "stdout"
        }
      ]
    },
    {
      "cell_type": "code",
      "metadata": {
        "id": "VpDCZzXIVNJv"
      },
      "source": [
        "#from sklearn.model_selection import RandomizedSearchCV\n",
        "\n",
        "#randm = RandomizedSearchCV(cat, param_distributions = param, cv=5,refit = True,n_iter = 10, n_jobs=-1)\n",
        "#randm.fit(X,Y)\n",
        "#print(\"\\n The best parameters across ALL searched params:\\n\",randm.best_params_)\n",
        "\n",
        "#Choosing hyperparas for data when there is no split and oversampling directly fitting training data set to model (for catboost)"
      ],
      "execution_count": 56,
      "outputs": []
    },
    {
      "cell_type": "code",
      "metadata": {
        "id": "2U6HPD-wBve1"
      },
      "source": [
        "#from sklearn.model_selection import RandomizedSearchCV\r\n",
        "\r\n",
        "#randm = RandomizedSearchCV(cat, param_distributions = param, cv=5,refit = True,n_iter = 10, n_jobs=-1)\r\n",
        "#randm.fit(x_train_res,y_train_res)\r\n",
        "#print(\"\\n The best parameters across ALL searched params:\\n\",randm.best_params_)\r\n",
        "\r\n",
        "#Finsing best hyperparas for data with train test split and oversampling (catboost)"
      ],
      "execution_count": 57,
      "outputs": []
    },
    {
      "cell_type": "code",
      "metadata": {
        "id": "yRPwnStEVNJv"
      },
      "source": [
        "#The best parameters across ALL searched params:\n",
        " #{'learning_rate': 0.1, 'l2_leaf_reg': 5, 'iterations': 1000, 'depth': 2, 'border_count': 200}"
      ],
      "execution_count": 58,
      "outputs": []
    },
    {
      "cell_type": "code",
      "metadata": {
        "id": "DuMdEy05VNJv"
      },
      "source": [
        "catt = CatBoostClassifier(learning_rate= 0.1, l2_leaf_reg = 5, iterations = 1000, depth= 2, border_count= 200)\r\n",
        "#Best params for train test split plus oversampling"
      ],
      "execution_count": 59,
      "outputs": []
    },
    {
      "cell_type": "code",
      "metadata": {
        "id": "mGYlbAP8qM_T"
      },
      "source": [
        "cat2 =  CatBoostClassifier(learning_rate = 0.13, l2_leaf_reg =  5, iterations = 100, depth = 8, border_count = 5)\r\n",
        "#best params for direct training data as input for training the model, no oversamp or train test split"
      ],
      "execution_count": 60,
      "outputs": []
    },
    {
      "cell_type": "code",
      "metadata": {
        "id": "OGUq06FMVNJw"
      },
      "source": [
        "#from sklearn.model_selection import RandomizedSearchCV\n",
        "from sklearn.tree import DecisionTreeClassifier\n",
        "#from sklearn.metrics import accuracy_score \n",
        "#param_grid = {'max_depth': np.arange(3, 10),'criterion' : ['gini','entropy'],'max_leaf_nodes': [5,10,50,100],'min_samples_split': [2, 5, 10, 20]}\n",
        "#grid_tree = RandomizedSearchCV(DecisionTreeClassifier(), param_grid, cv = 5, scoring= 'accuracy')\n",
        "#grid_tree.fit(x_train_res, y_train_res)\n",
        "#np.abs(grid_tree.best_score_)\n",
        "#test the accuracy of all the combination of the parameters, then output the highest parameter.\n",
        "#print(grid_tree.best_estimator_)"
      ],
      "execution_count": 61,
      "outputs": []
    },
    {
      "cell_type": "code",
      "metadata": {
        "id": "d1ImTY0KVNJw"
      },
      "source": [
        "dtt = DecisionTreeClassifier(ccp_alpha=0.0, class_weight=None, criterion='entropy',\n",
        "                       max_depth=7, max_features=None, max_leaf_nodes=50,\n",
        "                       min_impurity_decrease=0.0, min_impurity_split=None,\n",
        "                       min_samples_leaf=1, min_samples_split=2,\n",
        "                       min_weight_fraction_leaf=0.0, presort='deprecated',\n",
        "                       random_state=None, splitter='best')\n",
        "#Params for train test split plus oversamp"
      ],
      "execution_count": 62,
      "outputs": []
    },
    {
      "cell_type": "code",
      "metadata": {
        "id": "XP-tyn4yVNJx"
      },
      "source": [
        "#from sklearn.metrics import classification_report,roc_auc_score,confusion_matrix,accuracy_score,f1_score\n",
        "#!pip install optuna\n",
        "#import optuna\n",
        "#from optuna.samplers import TPESampler\n",
        "from lightgbm import LGBMClassifier\n",
        "#def create_model(trial):\n",
        "#    n_estimators = trial.suggest_int('n_estimators',100,500)\n",
        "#    num_leaves = trial.suggest_int('num_leaves',10,500)\n",
        "#    max_depth = trial.suggest_int('max_depth',4,20)\n",
        "#    learning_rate = trial.suggest_uniform('learning_rate',0.0001,1)\n",
        "#    min_child_samples = trial.suggest_int('min_child_samples',10,50)\n",
        "#    model = LGBMClassifier(n_estimators=n_estimators,num_leaves=num_leaves,\n",
        "#    max_depth=max_depth,learning_rate=learning_rate,min_child_samples=min_child_samples)\n",
        "#    return model\n",
        "\n",
        "#def objective(trial):\n",
        "#    model = create_model(trial)\n",
        "#    model.fit(X,Y)\n",
        "#    score = roc_auc_score(y_test,model.predict(x_test))\n",
        "#    return score\n",
        "\n",
        "#sampler = TPESampler(seed=42)\n",
        "#study = optuna.create_study(sampler=sampler,direction='maximize')\n",
        "#study.optimize(objective,n_trials=60)\n",
        "\n",
        "#To get best hyperparams for Lightgbm for the whole training data as input without oversamp and train test split\n",
        "#For train test + oversamp take x_train_res and y_train_res as input for model.fit here"
      ],
      "execution_count": 66,
      "outputs": []
    },
    {
      "cell_type": "code",
      "metadata": {
        "id": "vxt_pbNkVNJy"
      },
      "source": [
        "#LGBM Classifier hyperparas for train test + oversamp\n",
        "#{'n_estimators': 137, 'num_leaves': 329, 'max_depth': 5, 'learning_rate': 0.39983175225014567, 'min_child_samples': 45}"
      ],
      "execution_count": 67,
      "outputs": []
    },
    {
      "cell_type": "code",
      "metadata": {
        "id": "iHSsHhuTVNJy"
      },
      "source": [
        "lg = LGBMClassifier(n_estimators = 137, num_leaves= 329, max_depth =  5, learning_rate= 0.39983175225014567, min_child_samples= 45)"
      ],
      "execution_count": 68,
      "outputs": []
    },
    {
      "cell_type": "code",
      "metadata": {
        "id": "yfmj0BkJu15R"
      },
      "source": [
        "lg2 = LGBMClassifier(n_estimators = 234, num_leaves =  498, max_depth = 18, learning_rate = 0.38598673398420036, min_child_samples = 35)\r\n",
        "#For training data as a whole as input + no oversamp or train test split"
      ],
      "execution_count": 69,
      "outputs": []
    },
    {
      "cell_type": "code",
      "metadata": {
        "id": "Gi-LyyZWVNJy"
      },
      "source": [
        "from sklearn.ensemble import VotingClassifier \n",
        "from sklearn.linear_model import LogisticRegression \n",
        "from sklearn.svm import SVC \n",
        "from sklearn.tree import DecisionTreeClassifier \n",
        "from sklearn.metrics import accuracy_score \n",
        "from lightgbm import LGBMClassifier"
      ],
      "execution_count": 70,
      "outputs": []
    },
    {
      "cell_type": "code",
      "metadata": {
        "id": "E3pwxXO3cg0M"
      },
      "source": [
        "from sklearn.ensemble import GradientBoostingClassifier\r\n",
        "gb = GradientBoostingClassifier(random_state = 122)"
      ],
      "execution_count": 71,
      "outputs": []
    },
    {
      "cell_type": "code",
      "metadata": {
        "id": "T2YBbtMAcmzv"
      },
      "source": [
        "from sklearn.linear_model import LogisticRegression\r\n",
        "lr = LogisticRegression()"
      ],
      "execution_count": 72,
      "outputs": []
    },
    {
      "cell_type": "code",
      "metadata": {
        "id": "qhE8EK5cxxmR"
      },
      "source": [
        "#from sklearn.model_selection import RandomizedSearchCV\r\n",
        "\r\n",
        "\r\n",
        "#log_params = {\"penalty\": ['l2'], \r\n",
        "#             'C': [ 0.5, 0.01, 0.1, 1, 2],\r\n",
        "#             'solver' : ['newton-cg', 'lbfgs', 'sag'],\r\n",
        "#             'max_iter': [300]}\r\n",
        "\r\n",
        "#grid_log = RandomizedSearchCV(LogisticRegression(), log_params, n_jobs=3, cv = 5,return_train_score=True, scoring = 'f1_weighted')\r\n",
        "#grid_log.fit(X,Y)\r\n",
        "\r\n",
        "#To get best params for logisitic with input as the whole training data without oversamp or train test split"
      ],
      "execution_count": 74,
      "outputs": []
    },
    {
      "cell_type": "code",
      "metadata": {
        "id": "R7DvUVUhx4-x"
      },
      "source": [
        "#grid_log.best_params_"
      ],
      "execution_count": 75,
      "outputs": []
    },
    {
      "cell_type": "code",
      "metadata": {
        "id": "YJ-3IuLJyeOk"
      },
      "source": [
        "lr2 = LogisticRegression(C = 0.1, max_iter = 300, penalty= 'l2', solver ='newton-cg')\r\n",
        "#best params for logisitc for training data as whole for ip"
      ],
      "execution_count": 76,
      "outputs": []
    },
    {
      "cell_type": "code",
      "metadata": {
        "id": "KkhwZGLIVNJz"
      },
      "source": [
        "estimator = []  \n",
        "estimator.append(('lg', lg2))\n",
        "estimator.append(('cat', cat2))\n",
        "#voting classifier inputs can set diff combinations of classifiers here and check results my range is bet 82-87 percent accuracy for all classifiers defined above"
      ],
      "execution_count": 77,
      "outputs": []
    },
    {
      "cell_type": "code",
      "metadata": {
        "id": "vgd9z4SgVNJz"
      },
      "source": [
        "vot_hard = VotingClassifier(estimators = estimator, voting ='hard') "
      ],
      "execution_count": 78,
      "outputs": []
    },
    {
      "cell_type": "code",
      "metadata": {
        "colab": {
          "base_uri": "https://localhost:8080/"
        },
        "id": "cRuJO7KhVNJz",
        "outputId": "81ca4cb7-7855-487e-a92f-651c9c194b6f"
      },
      "source": [
        "vot_hard.fit(X,Y) \r\n",
        "#if using oversamp+ train test split use x_train_res and y_train_res"
      ],
      "execution_count": 79,
      "outputs": [
        {
          "output_type": "stream",
          "text": [
            "0:\tlearn: 0.6155590\ttotal: 117ms\tremaining: 11.6s\n",
            "1:\tlearn: 0.5553257\ttotal: 178ms\tremaining: 8.74s\n",
            "2:\tlearn: 0.5077606\ttotal: 243ms\tremaining: 7.86s\n",
            "3:\tlearn: 0.4694953\ttotal: 307ms\tremaining: 7.37s\n",
            "4:\tlearn: 0.4383547\ttotal: 375ms\tremaining: 7.12s\n",
            "5:\tlearn: 0.4123789\ttotal: 448ms\tremaining: 7.02s\n",
            "6:\tlearn: 0.3911781\ttotal: 515ms\tremaining: 6.84s\n",
            "7:\tlearn: 0.3732710\ttotal: 583ms\tremaining: 6.71s\n",
            "8:\tlearn: 0.3580030\ttotal: 648ms\tremaining: 6.55s\n",
            "9:\tlearn: 0.3451421\ttotal: 713ms\tremaining: 6.42s\n",
            "10:\tlearn: 0.3344110\ttotal: 777ms\tremaining: 6.29s\n",
            "11:\tlearn: 0.3253457\ttotal: 845ms\tremaining: 6.2s\n",
            "12:\tlearn: 0.3173789\ttotal: 909ms\tremaining: 6.09s\n",
            "13:\tlearn: 0.3107100\ttotal: 972ms\tremaining: 5.97s\n",
            "14:\tlearn: 0.3048418\ttotal: 1.04s\tremaining: 5.87s\n",
            "15:\tlearn: 0.3000657\ttotal: 1.1s\tremaining: 5.79s\n",
            "16:\tlearn: 0.2957303\ttotal: 1.17s\tremaining: 5.69s\n",
            "17:\tlearn: 0.2918368\ttotal: 1.23s\tremaining: 5.6s\n",
            "18:\tlearn: 0.2888080\ttotal: 1.28s\tremaining: 5.45s\n",
            "19:\tlearn: 0.2860728\ttotal: 1.35s\tremaining: 5.39s\n",
            "20:\tlearn: 0.2836671\ttotal: 1.41s\tremaining: 5.31s\n",
            "21:\tlearn: 0.2814145\ttotal: 1.49s\tremaining: 5.27s\n",
            "22:\tlearn: 0.2795852\ttotal: 1.55s\tremaining: 5.18s\n",
            "23:\tlearn: 0.2779469\ttotal: 1.61s\tremaining: 5.11s\n",
            "24:\tlearn: 0.2764915\ttotal: 1.68s\tremaining: 5.04s\n",
            "25:\tlearn: 0.2753119\ttotal: 1.72s\tremaining: 4.9s\n",
            "26:\tlearn: 0.2742316\ttotal: 1.79s\tremaining: 4.83s\n",
            "27:\tlearn: 0.2732398\ttotal: 1.86s\tremaining: 4.79s\n",
            "28:\tlearn: 0.2724061\ttotal: 1.92s\tremaining: 4.71s\n",
            "29:\tlearn: 0.2717854\ttotal: 1.99s\tremaining: 4.63s\n",
            "30:\tlearn: 0.2710684\ttotal: 2.06s\tremaining: 4.58s\n",
            "31:\tlearn: 0.2704602\ttotal: 2.12s\tremaining: 4.51s\n",
            "32:\tlearn: 0.2699502\ttotal: 2.19s\tremaining: 4.44s\n",
            "33:\tlearn: 0.2694862\ttotal: 2.27s\tremaining: 4.41s\n",
            "34:\tlearn: 0.2690444\ttotal: 2.34s\tremaining: 4.34s\n",
            "35:\tlearn: 0.2689175\ttotal: 2.41s\tremaining: 4.28s\n",
            "36:\tlearn: 0.2686364\ttotal: 2.48s\tremaining: 4.22s\n",
            "37:\tlearn: 0.2682717\ttotal: 2.55s\tremaining: 4.16s\n",
            "38:\tlearn: 0.2680673\ttotal: 2.61s\tremaining: 4.08s\n",
            "39:\tlearn: 0.2678420\ttotal: 2.67s\tremaining: 4.01s\n",
            "40:\tlearn: 0.2677295\ttotal: 2.72s\tremaining: 3.91s\n",
            "41:\tlearn: 0.2675044\ttotal: 2.78s\tremaining: 3.84s\n",
            "42:\tlearn: 0.2674207\ttotal: 2.85s\tremaining: 3.77s\n",
            "43:\tlearn: 0.2672980\ttotal: 2.91s\tremaining: 3.7s\n",
            "44:\tlearn: 0.2671013\ttotal: 2.98s\tremaining: 3.64s\n",
            "45:\tlearn: 0.2669237\ttotal: 3.04s\tremaining: 3.57s\n",
            "46:\tlearn: 0.2667902\ttotal: 3.1s\tremaining: 3.5s\n",
            "47:\tlearn: 0.2667265\ttotal: 3.16s\tremaining: 3.43s\n",
            "48:\tlearn: 0.2666529\ttotal: 3.23s\tremaining: 3.36s\n",
            "49:\tlearn: 0.2665262\ttotal: 3.3s\tremaining: 3.3s\n",
            "50:\tlearn: 0.2664725\ttotal: 3.36s\tremaining: 3.23s\n",
            "51:\tlearn: 0.2664176\ttotal: 3.43s\tremaining: 3.17s\n",
            "52:\tlearn: 0.2663622\ttotal: 3.51s\tremaining: 3.11s\n",
            "53:\tlearn: 0.2662374\ttotal: 3.57s\tremaining: 3.04s\n",
            "54:\tlearn: 0.2662063\ttotal: 3.63s\tremaining: 2.97s\n",
            "55:\tlearn: 0.2661095\ttotal: 3.7s\tremaining: 2.9s\n",
            "56:\tlearn: 0.2660333\ttotal: 3.76s\tremaining: 2.84s\n",
            "57:\tlearn: 0.2659970\ttotal: 3.82s\tremaining: 2.77s\n",
            "58:\tlearn: 0.2659575\ttotal: 3.88s\tremaining: 2.7s\n",
            "59:\tlearn: 0.2658976\ttotal: 3.95s\tremaining: 2.63s\n",
            "60:\tlearn: 0.2658732\ttotal: 4.02s\tremaining: 2.57s\n",
            "61:\tlearn: 0.2657936\ttotal: 4.08s\tremaining: 2.5s\n",
            "62:\tlearn: 0.2657715\ttotal: 4.14s\tremaining: 2.43s\n",
            "63:\tlearn: 0.2657134\ttotal: 4.21s\tremaining: 2.37s\n",
            "64:\tlearn: 0.2656414\ttotal: 4.27s\tremaining: 2.3s\n",
            "65:\tlearn: 0.2656099\ttotal: 4.33s\tremaining: 2.23s\n",
            "66:\tlearn: 0.2655534\ttotal: 4.41s\tremaining: 2.17s\n",
            "67:\tlearn: 0.2655341\ttotal: 4.48s\tremaining: 2.11s\n",
            "68:\tlearn: 0.2654894\ttotal: 4.55s\tremaining: 2.04s\n",
            "69:\tlearn: 0.2654380\ttotal: 4.61s\tremaining: 1.98s\n",
            "70:\tlearn: 0.2654040\ttotal: 4.68s\tremaining: 1.91s\n",
            "71:\tlearn: 0.2653831\ttotal: 4.74s\tremaining: 1.84s\n",
            "72:\tlearn: 0.2653580\ttotal: 4.8s\tremaining: 1.78s\n",
            "73:\tlearn: 0.2653372\ttotal: 4.87s\tremaining: 1.71s\n",
            "74:\tlearn: 0.2653125\ttotal: 4.94s\tremaining: 1.65s\n",
            "75:\tlearn: 0.2652364\ttotal: 5.01s\tremaining: 1.58s\n",
            "76:\tlearn: 0.2651901\ttotal: 5.07s\tremaining: 1.51s\n",
            "77:\tlearn: 0.2651664\ttotal: 5.14s\tremaining: 1.45s\n",
            "78:\tlearn: 0.2651399\ttotal: 5.18s\tremaining: 1.38s\n",
            "79:\tlearn: 0.2650855\ttotal: 5.25s\tremaining: 1.31s\n",
            "80:\tlearn: 0.2650631\ttotal: 5.31s\tremaining: 1.25s\n",
            "81:\tlearn: 0.2650404\ttotal: 5.38s\tremaining: 1.18s\n",
            "82:\tlearn: 0.2650051\ttotal: 5.45s\tremaining: 1.12s\n",
            "83:\tlearn: 0.2649723\ttotal: 5.52s\tremaining: 1.05s\n",
            "84:\tlearn: 0.2649615\ttotal: 5.59s\tremaining: 986ms\n",
            "85:\tlearn: 0.2649346\ttotal: 5.66s\tremaining: 921ms\n",
            "86:\tlearn: 0.2649182\ttotal: 5.72s\tremaining: 855ms\n",
            "87:\tlearn: 0.2648840\ttotal: 5.78s\tremaining: 788ms\n",
            "88:\tlearn: 0.2648423\ttotal: 5.85s\tremaining: 723ms\n",
            "89:\tlearn: 0.2648040\ttotal: 5.92s\tremaining: 658ms\n",
            "90:\tlearn: 0.2647856\ttotal: 5.98s\tremaining: 592ms\n",
            "91:\tlearn: 0.2647618\ttotal: 6.05s\tremaining: 526ms\n",
            "92:\tlearn: 0.2647343\ttotal: 6.11s\tremaining: 460ms\n",
            "93:\tlearn: 0.2647151\ttotal: 6.18s\tremaining: 394ms\n",
            "94:\tlearn: 0.2646884\ttotal: 6.24s\tremaining: 329ms\n",
            "95:\tlearn: 0.2646413\ttotal: 6.31s\tremaining: 263ms\n",
            "96:\tlearn: 0.2646172\ttotal: 6.37s\tremaining: 197ms\n",
            "97:\tlearn: 0.2645748\ttotal: 6.44s\tremaining: 131ms\n",
            "98:\tlearn: 0.2645552\ttotal: 6.51s\tremaining: 65.8ms\n",
            "99:\tlearn: 0.2645212\ttotal: 6.57s\tremaining: 0us\n"
          ],
          "name": "stdout"
        },
        {
          "output_type": "execute_result",
          "data": {
            "text/plain": [
              "VotingClassifier(estimators=[('lg',\n",
              "                              LGBMClassifier(boosting_type='gbdt',\n",
              "                                             class_weight=None,\n",
              "                                             colsample_bytree=1.0,\n",
              "                                             importance_type='split',\n",
              "                                             learning_rate=0.38598673398420036,\n",
              "                                             max_depth=18, min_child_samples=35,\n",
              "                                             min_child_weight=0.001,\n",
              "                                             min_split_gain=0.0,\n",
              "                                             n_estimators=234, n_jobs=-1,\n",
              "                                             num_leaves=498, objective=None,\n",
              "                                             random_state=None, reg_alpha=0.0,\n",
              "                                             reg_lambda=0.0, silent=True,\n",
              "                                             subsample=1.0,\n",
              "                                             subsample_for_bin=200000,\n",
              "                                             subsample_freq=0)),\n",
              "                             ('cat',\n",
              "                              <catboost.core.CatBoostClassifier object at 0x7f6373da7240>)],\n",
              "                 flatten_transform=True, n_jobs=None, voting='hard',\n",
              "                 weights=None)"
            ]
          },
          "metadata": {
            "tags": []
          },
          "execution_count": 79
        }
      ]
    },
    {
      "cell_type": "code",
      "metadata": {
        "id": "852jaJbfVNJz"
      },
      "source": [
        "y_pred = vot_hard.predict(test)"
      ],
      "execution_count": 80,
      "outputs": []
    },
    {
      "cell_type": "code",
      "metadata": {
        "id": "NvruNC6JXMNU"
      },
      "source": [
        "output = pd.DataFrame({'Response': y_pred})\r\n",
        "output.to_csv('my_submission.csv', index=False)"
      ],
      "execution_count": 81,
      "outputs": []
    }
  ]
}